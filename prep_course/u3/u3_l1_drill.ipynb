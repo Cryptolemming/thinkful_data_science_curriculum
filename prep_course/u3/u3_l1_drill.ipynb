{
 "cells": [
  {
   "cell_type": "code",
   "execution_count": 18,
   "metadata": {},
   "outputs": [],
   "source": [
    "import numpy as np\n",
    "import pandas as pd\n",
    "import statistics\n",
    "%matplotlib inline"
   ]
  },
  {
   "cell_type": "code",
   "execution_count": 19,
   "metadata": {},
   "outputs": [
    {
     "name": "stdout",
     "output_type": "stream",
     "text": [
      "    actor  age\n",
      "0    Greg   14\n",
      "1  Marcia   12\n",
      "2   Peter   11\n",
      "3     Jan   10\n",
      "4   Bobby    8\n",
      "5   Cindy    6\n",
      "6  Oliver    8\n"
     ]
    }
   ],
   "source": [
    "df=pd.DataFrame()\n",
    "df['actor'] = ['Greg', 'Marcia', 'Peter', 'Jan', 'Bobby', 'Cindy', 'Oliver']\n",
    "df['age'] = [14, 12, 11, 10, 8, 6, 8]\n",
    "print(df)"
   ]
  },
  {
   "cell_type": "code",
   "execution_count": 30,
   "metadata": {},
   "outputs": [
    {
     "name": "stdout",
     "output_type": "stream",
     "text": [
      "central tendency: 9.857142857142858 9.857142857142858 10 10.0 8 8\n",
      "variance: 7.476190476190475 7.476190476190475 6.408163265306122\n",
      "standard deviation:  2.734262327610589 2.734262327610589 2.531435020952764 2.734262327610589\n",
      "standard error:  1.0334540197243192\n"
     ]
    }
   ],
   "source": [
    "# measures of centran tendency and variance in vanilla python, pandas and numpy methods\n",
    "mean1 = sum(df['age']) / len(df['age'])\n",
    "mean2 = np.mean(df['age'])\n",
    "\n",
    "median1 = statistics.median(df['age'])\n",
    "median2 = np.median(df['age'])\n",
    "\n",
    "mode1 = statistics.mode(df['age'])\n",
    "# if standard error due to multiple median nodes\n",
    "(values, counts) = np.unique(df['age'], return_counts=True)\n",
    "ind = np.argmax(counts)\n",
    "mode2 = values[ind]\n",
    "\n",
    "print('central tendency:', mean1, mean2, median1, median2, mode1, mode2)\n",
    "\n",
    "var1 = sum([(x-mean1) ** 2 for x in df['age']]) / (len(df['age'])-1)\n",
    "var2 = df['age'].var()\n",
    "var3 = np.var(df.age) # n not n-1\n",
    "\n",
    "print('variance:', var1, var2, var3)\n",
    "\n",
    "std1 = var1 ** 0.5\n",
    "std2 = df['age'].std()\n",
    "std3 = np.std(df.age)\n",
    "std4 = np.std(df.age, ddof=1) # n\n",
    "\n",
    "print('standard deviation: ',std1, std2, std3, std4)\n",
    "\n",
    "se1 = std1 / (len(df['age'])**0.5)\n",
    "\n",
    "print('standard error: ', se1)"
   ]
  }
 ],
 "metadata": {
  "kernelspec": {
   "display_name": "Python 3",
   "language": "python",
   "name": "python3"
  },
  "language_info": {
   "codemirror_mode": {
    "name": "ipython",
    "version": 3
   },
   "file_extension": ".py",
   "mimetype": "text/x-python",
   "name": "python",
   "nbconvert_exporter": "python",
   "pygments_lexer": "ipython3",
   "version": "3.6.7"
  }
 },
 "nbformat": 4,
 "nbformat_minor": 2
}

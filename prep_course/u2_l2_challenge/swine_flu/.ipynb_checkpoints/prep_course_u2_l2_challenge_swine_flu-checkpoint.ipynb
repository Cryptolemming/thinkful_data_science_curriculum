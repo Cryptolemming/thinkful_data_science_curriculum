{
 "cells": [
  {
   "cell_type": "code",
   "execution_count": 8,
   "metadata": {},
   "outputs": [],
   "source": [
    "import numpy as np\n",
    "import pandas as pd\n",
    "import matplotlib.pyplot as plt\n",
    "import re\n",
    "%matplotlib inline"
   ]
  },
  {
   "cell_type": "code",
   "execution_count": 9,
   "metadata": {},
   "outputs": [
    {
     "name": "stdout",
     "output_type": "stream",
     "text": [
      "  Chill RunnyNose Headache Fever             Swine Flu?\n",
      "0   Yes        No     Mild   Yes                     No\n",
      "1   Yes       Yes       No    No                   Yes \n",
      "2   Yes        No   Strong   Yes                    Yes\n",
      "3    No       Yes     Mild   Yes                    Yes\n",
      "4    No        No       No    No                     No\n",
      "5    No       Yes   Strong   Yes                    Yes\n",
      "6    No       Yes   Strong    No                     No\n",
      "7   Yes       Yes     Mild   Yes  yes                  \n"
     ]
    }
   ],
   "source": [
    "'''\n",
    "Prep Course\n",
    "U2.L4\n",
    "\n",
    "task:  Select a data set, visualize the data in some way, draw some conclusions\n",
    "data:  Swine flu and general symptom incidence across a very small sample\n",
    "\n",
    "question: Can we begin to conclude that the population of Swine Flu sufferers are more \n",
    "          likely to exhibit certain symptoms than the total sample population?\n",
    "'''\n",
    "\n",
    "# read data into data frame\n",
    "df = pd.read_csv('./swineflu.csv')\n",
    "print(df)\n"
   ]
  },
  {
   "cell_type": "code",
   "execution_count": 16,
   "metadata": {},
   "outputs": [
    {
     "data": {
      "image/png": "[encoded data removed]",
      "text/plain": [
       "<Figure size 432x288 with 1 Axes>"
      ]
     },
     "metadata": {},
     "output_type": "display_data"
    },
    {
     "data": {
      "text/plain": [
       "'\\n~2/3 of the total sample population are infected with the Swine Flu\\nwith 62.5% infected and 37.5% not infected.\\n'"
      ]
     },
     "execution_count": 16,
     "metadata": {},
     "output_type": "execute_result"
    }
   ],
   "source": [
    "#1. Pie chart showing swine flu proportion in the total sample population\n",
    "\n",
    "# values\n",
    "swine_flu = df['Swine Flu?']\n",
    "regex_yes = r'\\s*[Y|y]es\\s*'\n",
    "swine_flu_yes = df[swine_flu.str.match(regex_yes)]\n",
    "swine_flu_pct = (len(swine_flu_yes) / len(swine_flu)) * 100\n",
    "swine_flu_no_pct = 100 - swine_flu_pct\n",
    "\n",
    "# chart data\n",
    "labels = ['Swine Flu', 'Not Swine Flu']\n",
    "sizes = [swine_flu_pct, swine_flu_no_pct]\n",
    "explode = (0.1,0)\n",
    "plt.pie(sizes, labels=labels, autopct='%1.1f%%', shadow=True, startangle=45, explode=explode)\n",
    "\n",
    "plt.show()\n",
    "'''~2/3 of the total sample population are infected with the Swine Flu\n",
    "with 62.5% infected and 37.5% not infected.'''"
   ]
  },
  {
   "cell_type": "code",
   "execution_count": 13,
   "metadata": {},
   "outputs": [
    {
     "data": {
      "image/png": "[encoded data removed]",
      "text/plain": [
       "<Figure size 432x288 with 1 Axes>"
      ]
     },
     "metadata": {
      "needs_background": "light"
     },
     "output_type": "display_data"
    },
    {
     "data": {
      "text/plain": [
       "'For every symptom - the incidence of the symptom in the swine flu population is higher than that in the general population.\\nWe may have indication that individuals exhibiting these symptoms are more likely to be infected with the \\nswine flu.  Runny nose and fever are not only the most prevalent symptoms in the population - but are also seemingly\\nmore indicative of swine flu infection than other symptoms.'"
      ]
     },
     "execution_count": 13,
     "metadata": {},
     "output_type": "execute_result"
    }
   ],
   "source": [
    "#2. Stacked bar graph showing the %'s of symptom incidence in swine flu sufferers vs the total sample population\n",
    "\n",
    "swine_flu_match = swine_flu.str.match(regex_yes)\n",
    "\n",
    "# determine the % of swine flu population exhibiting a given symptom\n",
    "def percentage_swine_flu_with_symptom(symptom):\n",
    "    success_state = regex_yes\n",
    "    if symptom == 'Headache':\n",
    "        success_state = 'Strong'\n",
    "    symptom_match = df[symptom].str.match(success_state)\n",
    "    return (len(df[lambda dfx: swine_flu_match & symptom_match]) / len(df[swine_flu_match])) * 100\n",
    "\n",
    "# determine the % of a given symptom in the total population sample\n",
    "def percentage_total_with_symptom(symptom):\n",
    "    success_state = regex_yes\n",
    "    if symptom == 'Headache':\n",
    "        success_state = 'Strong'\n",
    "    symptom_match = df[symptom].str.match(success_state)\n",
    "    return (len(df[symptom_match]) / len(df[symptom])) * 100\n",
    "\n",
    "# values\n",
    "symptoms = ['Chill', 'RunnyNose', 'Headache', 'Fever']\n",
    "swine_flu_pcts = [percentage_swine_flu_with_symptom(symptom) for symptom in symptoms]\n",
    "total_pcts = [percentage_total_with_symptom(symptom) for symptom in symptoms]\n",
    "\n",
    "# chart data\n",
    "N = len(symptoms)\n",
    "indeces = np.arange(N)\n",
    "width = .5\n",
    "p1 = plt.bar(indeces, swine_flu_pcts, width)\n",
    "p2 = plt.bar(indeces, total_pcts, width)\n",
    "plt.ylabel('%\\'s')\n",
    "plt.title('Symptom Incidence rates for Swine Flu population vs Total Population Sample')\n",
    "plt.xticks(indeces, tuple(symptoms))\n",
    "plt.yticks(np.arange(0,100,10))\n",
    "plt.legend((p1[0], p2[0]), ('Swine Flu', 'Total Sample'))\n",
    "\n",
    "plt.show()\n",
    "'''For every symptom - the incidence of the symptom in the swine flu population is higher than that in the general population.\n",
    "We may have indication that individuals exhibiting these symptoms are more likely to be infected with the \n",
    "swine flu.  Runny nose and fever are not only the most prevalent symptoms in the population - but are also seemingly\n",
    "more indicative of swine flu infection than other symptoms.'''"
   ]
  },
  {
   "cell_type": "code",
   "execution_count": null,
   "metadata": {},
   "outputs": [],
   "source": []
  }
 ],
 "metadata": {
  "kernelspec": {
   "display_name": "Python 3",
   "language": "python",
   "name": "python3"
  },
  "language_info": {
   "codemirror_mode": {
    "name": "ipython",
    "version": 3
   },
   "file_extension": ".py",
   "mimetype": "text/x-python",
   "name": "python",
   "nbconvert_exporter": "python",
   "pygments_lexer": "ipython3",
   "version": "3.6.7"
  }
 },
 "nbformat": 4,
 "nbformat_minor": 2
}

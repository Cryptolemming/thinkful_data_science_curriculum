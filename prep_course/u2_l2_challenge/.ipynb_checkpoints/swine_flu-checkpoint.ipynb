{
 "cells": [
  {
   "cell_type": "code",
   "execution_count": 44,
   "metadata": {},
   "outputs": [],
   "source": [
    "import numpy as np\n",
    "import pandas as pd\n",
    "import matplotlib.pyplot as plt\n",
    "%matplotlib inline"
   ]
  },
  {
   "cell_type": "code",
   "execution_count": 99,
   "metadata": {},
   "outputs": [
    {
     "name": "stdout",
     "output_type": "stream",
     "text": [
      "  Chill RunnyNose Headache Fever             Swine Flu?\n",
      "0   Yes        No     Mild   Yes                     No\n",
      "1   Yes       Yes       No    No                   Yes \n",
      "2   Yes        No   Strong   Yes                    Yes\n",
      "3    No       Yes     Mild   Yes                    Yes\n",
      "4    No        No       No    No                     No\n",
      "5    No       Yes   Strong   Yes                    Yes\n",
      "6    No       Yes   Strong    No                     No\n",
      "7   Yes       Yes     Mild   Yes  yes                  \n",
      "Chill          Yes\n",
      "RunnyNose       No\n",
      "Headache      Mild\n",
      "Fever          Yes\n",
      "Swine Flu?      No\n",
      "Name: 0, dtype: object\n"
     ]
    }
   ],
   "source": [
    "df = pd.read_csv('./prep/u2_l2_challenge/swine_flu/swineflu.csv')\n",
    "print(df)\n"
   ]
  }
 ],
 "metadata": {
  "kernelspec": {
   "display_name": "Python 3",
   "language": "python",
   "name": "python3"
  },
  "language_info": {
   "codemirror_mode": {
    "name": "ipython",
    "version": 3
   },
   "file_extension": ".py",
   "mimetype": "text/x-python",
   "name": "python",
   "nbconvert_exporter": "python",
   "pygments_lexer": "ipython3",
   "version": "3.6.7"
  }
 },
 "nbformat": 4,
 "nbformat_minor": 2
}
